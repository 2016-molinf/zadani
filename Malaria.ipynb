{
 "cells": [
  {
   "cell_type": "code",
   "execution_count": 1,
   "metadata": {
    "collapsed": true
   },
   "outputs": [],
   "source": [
    "import pandas\n",
    "import pandas as pd\n",
    "import numpy as np"
   ]
  },
  {
   "cell_type": "code",
   "execution_count": 2,
   "metadata": {
    "collapsed": false
   },
   "outputs": [
    {
     "data": {
      "text/html": [
       "<div>\n",
       "<table border=\"1\" class=\"dataframe\">\n",
       "  <thead>\n",
       "    <tr style=\"text-align: right;\">\n",
       "      <th></th>\n",
       "      <th>CMPD_CHEMBLID</th>\n",
       "      <th>MOLREGNO</th>\n",
       "      <th>PARENT_CMPD_CHEMBLID</th>\n",
       "      <th>PARENT_MOLREGNO</th>\n",
       "      <th>MOL_PREF_NAME</th>\n",
       "      <th>COMPOUND_KEY</th>\n",
       "      <th>MOLWEIGHT</th>\n",
       "      <th>ALOGP</th>\n",
       "      <th>PSA</th>\n",
       "      <th>NUM_RO5_VIOLATIONS</th>\n",
       "      <th>...</th>\n",
       "      <th>APD_NAME</th>\n",
       "      <th>APD_CONFIDENCE</th>\n",
       "      <th>DOC_ID</th>\n",
       "      <th>DOC_CHEMBLID</th>\n",
       "      <th>PUBMED_ID</th>\n",
       "      <th>JOURNAL</th>\n",
       "      <th>YEAR</th>\n",
       "      <th>VOLUME</th>\n",
       "      <th>ISSUE</th>\n",
       "      <th>FIRST_PAGE</th>\n",
       "    </tr>\n",
       "  </thead>\n",
       "  <tbody>\n",
       "    <tr>\n",
       "      <th>0</th>\n",
       "      <td>CHEMBL279986</td>\n",
       "      <td>27889</td>\n",
       "      <td>CHEMBL279986</td>\n",
       "      <td>27889</td>\n",
       "      <td>NaN</td>\n",
       "      <td>1d</td>\n",
       "      <td>290.36</td>\n",
       "      <td>3.60</td>\n",
       "      <td>77.81</td>\n",
       "      <td>0</td>\n",
       "      <td>...</td>\n",
       "      <td>NaN</td>\n",
       "      <td>NaN</td>\n",
       "      <td>21047</td>\n",
       "      <td>CHEMBL1138679</td>\n",
       "      <td>15293997</td>\n",
       "      <td>J. Med. Chem.</td>\n",
       "      <td>2004</td>\n",
       "      <td>47</td>\n",
       "      <td>17</td>\n",
       "      <td>4258</td>\n",
       "    </tr>\n",
       "    <tr>\n",
       "      <th>1</th>\n",
       "      <td>CHEMBL161034</td>\n",
       "      <td>266396</td>\n",
       "      <td>CHEMBL161034</td>\n",
       "      <td>266396</td>\n",
       "      <td>NaN</td>\n",
       "      <td>34 (C121)</td>\n",
       "      <td>391.85</td>\n",
       "      <td>4.87</td>\n",
       "      <td>89.23</td>\n",
       "      <td>0</td>\n",
       "      <td>...</td>\n",
       "      <td>NaN</td>\n",
       "      <td>NaN</td>\n",
       "      <td>17662</td>\n",
       "      <td>CHEMBL1138835</td>\n",
       "      <td>14736247</td>\n",
       "      <td>J. Med. Chem.</td>\n",
       "      <td>2004</td>\n",
       "      <td>47</td>\n",
       "      <td>3</td>\n",
       "      <td>673</td>\n",
       "    </tr>\n",
       "    <tr>\n",
       "      <th>2</th>\n",
       "      <td>CHEMBL443013</td>\n",
       "      <td>149758</td>\n",
       "      <td>CHEMBL443013</td>\n",
       "      <td>149758</td>\n",
       "      <td>NaN</td>\n",
       "      <td>19</td>\n",
       "      <td>245.32</td>\n",
       "      <td>2.62</td>\n",
       "      <td>80.00</td>\n",
       "      <td>0</td>\n",
       "      <td>...</td>\n",
       "      <td>NaN</td>\n",
       "      <td>NaN</td>\n",
       "      <td>15522</td>\n",
       "      <td>CHEMBL1133696</td>\n",
       "      <td>10893311</td>\n",
       "      <td>J. Med. Chem.</td>\n",
       "      <td>2000</td>\n",
       "      <td>43</td>\n",
       "      <td>14</td>\n",
       "      <td>2738</td>\n",
       "    </tr>\n",
       "    <tr>\n",
       "      <th>3</th>\n",
       "      <td>CHEMBL90461</td>\n",
       "      <td>149414</td>\n",
       "      <td>CHEMBL90461</td>\n",
       "      <td>149414</td>\n",
       "      <td>NaN</td>\n",
       "      <td>12</td>\n",
       "      <td>296.17</td>\n",
       "      <td>2.42</td>\n",
       "      <td>80.00</td>\n",
       "      <td>0</td>\n",
       "      <td>...</td>\n",
       "      <td>NaN</td>\n",
       "      <td>NaN</td>\n",
       "      <td>15522</td>\n",
       "      <td>CHEMBL1133696</td>\n",
       "      <td>10893311</td>\n",
       "      <td>J. Med. Chem.</td>\n",
       "      <td>2000</td>\n",
       "      <td>43</td>\n",
       "      <td>14</td>\n",
       "      <td>2738</td>\n",
       "    </tr>\n",
       "    <tr>\n",
       "      <th>4</th>\n",
       "      <td>CHEMBL95567</td>\n",
       "      <td>157724</td>\n",
       "      <td>CHEMBL95567</td>\n",
       "      <td>157724</td>\n",
       "      <td>NaN</td>\n",
       "      <td>2a</td>\n",
       "      <td>190.21</td>\n",
       "      <td>0.92</td>\n",
       "      <td>101.88</td>\n",
       "      <td>0</td>\n",
       "      <td>...</td>\n",
       "      <td>NaN</td>\n",
       "      <td>NaN</td>\n",
       "      <td>17071</td>\n",
       "      <td>CHEMBL1145823</td>\n",
       "      <td>12825927</td>\n",
       "      <td>J. Med. Chem.</td>\n",
       "      <td>2003</td>\n",
       "      <td>46</td>\n",
       "      <td>14</td>\n",
       "      <td>2834</td>\n",
       "    </tr>\n",
       "  </tbody>\n",
       "</table>\n",
       "<p>5 rows × 48 columns</p>\n",
       "</div>"
      ],
      "text/plain": [
       "  CMPD_CHEMBLID  MOLREGNO PARENT_CMPD_CHEMBLID  PARENT_MOLREGNO MOL_PREF_NAME  \\\n",
       "0  CHEMBL279986     27889         CHEMBL279986            27889           NaN   \n",
       "1  CHEMBL161034    266396         CHEMBL161034           266396           NaN   \n",
       "2  CHEMBL443013    149758         CHEMBL443013           149758           NaN   \n",
       "3   CHEMBL90461    149414          CHEMBL90461           149414           NaN   \n",
       "4   CHEMBL95567    157724          CHEMBL95567           157724           NaN   \n",
       "\n",
       "  COMPOUND_KEY  MOLWEIGHT  ALOGP     PSA  NUM_RO5_VIOLATIONS     ...      \\\n",
       "0           1d     290.36   3.60   77.81                   0     ...       \n",
       "1    34 (C121)     391.85   4.87   89.23                   0     ...       \n",
       "2           19     245.32   2.62   80.00                   0     ...       \n",
       "3           12     296.17   2.42   80.00                   0     ...       \n",
       "4           2a     190.21   0.92  101.88                   0     ...       \n",
       "\n",
       "  APD_NAME  APD_CONFIDENCE DOC_ID   DOC_CHEMBLID  PUBMED_ID        JOURNAL  \\\n",
       "0      NaN             NaN  21047  CHEMBL1138679   15293997  J. Med. Chem.   \n",
       "1      NaN             NaN  17662  CHEMBL1138835   14736247  J. Med. Chem.   \n",
       "2      NaN             NaN  15522  CHEMBL1133696   10893311  J. Med. Chem.   \n",
       "3      NaN             NaN  15522  CHEMBL1133696   10893311  J. Med. Chem.   \n",
       "4      NaN             NaN  17071  CHEMBL1145823   12825927  J. Med. Chem.   \n",
       "\n",
       "   YEAR VOLUME ISSUE  FIRST_PAGE  \n",
       "0  2004     47    17        4258  \n",
       "1  2004     47     3         673  \n",
       "2  2000     43    14        2738  \n",
       "3  2000     43    14        2738  \n",
       "4  2003     46    14        2834  \n",
       "\n",
       "[5 rows x 48 columns]"
      ]
     },
     "execution_count": 2,
     "metadata": {},
     "output_type": "execute_result"
    }
   ],
   "source": [
    "act = pandas.read_csv(\"bioactivities-16 15_04_13.tab\", sep=\"\\t\")\n",
    "act[:5]"
   ]
  },
  {
   "cell_type": "code",
   "execution_count": null,
   "metadata": {
    "collapsed": false
   },
   "outputs": [],
   "source": []
  },
  {
   "cell_type": "code",
   "execution_count": 3,
   "metadata": {
    "collapsed": false
   },
   "outputs": [
    {
     "data": {
      "text/plain": [
       "<matplotlib.axes._subplots.AxesSubplot at 0x7f05d28ed908>"
      ]
     },
     "execution_count": 3,
     "metadata": {},
     "output_type": "execute_result"
    },
    {
     "data": {
      "image/png": "[encoded data removed]",
      "text/plain": [
       "<matplotlib.figure.Figure at 0x7f05e4fc6208>"
      ]
     },
     "metadata": {},
     "output_type": "display_data"
    }
   ],
   "source": [
    "%matplotlib inline\n",
    "act.STANDARD_VALUE.hist()"
   ]
  },
  {
   "cell_type": "code",
   "execution_count": 4,
   "metadata": {
    "collapsed": false
   },
   "outputs": [
    {
     "data": {
      "text/plain": [
       "30"
      ]
     },
     "execution_count": 4,
     "metadata": {},
     "output_type": "execute_result"
    }
   ],
   "source": [
    "sum(act.ACTIVITY_COMMENT == \"Not Active\")"
   ]
  },
  {
   "cell_type": "code",
   "execution_count": 5,
   "metadata": {
    "collapsed": false
   },
   "outputs": [
    {
     "data": {
      "text/plain": [
       "7     NaN\n",
       "19    NaN\n",
       "34    NaN\n",
       "36    NaN\n",
       "41    NaN\n",
       "81    NaN\n",
       "85    NaN\n",
       "182   NaN\n",
       "221   NaN\n",
       "233   NaN\n",
       "250   NaN\n",
       "253   NaN\n",
       "311   NaN\n",
       "368   NaN\n",
       "384   NaN\n",
       "418   NaN\n",
       "433   NaN\n",
       "449   NaN\n",
       "458   NaN\n",
       "482   NaN\n",
       "519   NaN\n",
       "520   NaN\n",
       "531   NaN\n",
       "546   NaN\n",
       "591   NaN\n",
       "608   NaN\n",
       "634   NaN\n",
       "732   NaN\n",
       "737   NaN\n",
       "743   NaN\n",
       "Name: STANDARD_VALUE, dtype: float64"
      ]
     },
     "execution_count": 5,
     "metadata": {},
     "output_type": "execute_result"
    }
   ],
   "source": [
    "act[act.ACTIVITY_COMMENT == \"Not Active\"].STANDARD_VALUE"
   ]
  },
  {
   "cell_type": "code",
   "execution_count": 6,
   "metadata": {
    "collapsed": false
   },
   "outputs": [
    {
     "data": {
      "text/html": [
       "<div>\n",
       "<table border=\"1\" class=\"dataframe\">\n",
       "  <thead>\n",
       "    <tr style=\"text-align: right;\">\n",
       "      <th></th>\n",
       "      <th>CMPD_CHEMBLID</th>\n",
       "      <th>ALOGP</th>\n",
       "    </tr>\n",
       "  </thead>\n",
       "  <tbody>\n",
       "    <tr>\n",
       "      <th>0</th>\n",
       "      <td>CHEMBL279986</td>\n",
       "      <td>3.60</td>\n",
       "    </tr>\n",
       "    <tr>\n",
       "      <th>1</th>\n",
       "      <td>CHEMBL161034</td>\n",
       "      <td>4.87</td>\n",
       "    </tr>\n",
       "    <tr>\n",
       "      <th>2</th>\n",
       "      <td>CHEMBL443013</td>\n",
       "      <td>2.62</td>\n",
       "    </tr>\n",
       "    <tr>\n",
       "      <th>3</th>\n",
       "      <td>CHEMBL90461</td>\n",
       "      <td>2.42</td>\n",
       "    </tr>\n",
       "    <tr>\n",
       "      <th>4</th>\n",
       "      <td>CHEMBL95567</td>\n",
       "      <td>0.92</td>\n",
       "    </tr>\n",
       "  </tbody>\n",
       "</table>\n",
       "</div>"
      ],
      "text/plain": [
       "  CMPD_CHEMBLID  ALOGP\n",
       "0  CHEMBL279986   3.60\n",
       "1  CHEMBL161034   4.87\n",
       "2  CHEMBL443013   2.62\n",
       "3   CHEMBL90461   2.42\n",
       "4   CHEMBL95567   0.92"
      ]
     },
     "execution_count": 6,
     "metadata": {},
     "output_type": "execute_result"
    }
   ],
   "source": [
    "act.iloc[:5,[0, 7]]"
   ]
  },
  {
   "cell_type": "code",
   "execution_count": 7,
   "metadata": {
    "collapsed": false
   },
   "outputs": [],
   "source": [
    "act.loc[act.ACTIVITY_COMMENT == \"Not Active\",\"STANDARD_VALUE\"] = 110000\n",
    "act.loc[act.ACTIVITY_COMMENT == \"Not Active\",\"STANDARD_UNITS\"] = \"nM\""
   ]
  },
  {
   "cell_type": "code",
   "execution_count": 8,
   "metadata": {
    "collapsed": false
   },
   "outputs": [
    {
     "data": {
      "text/html": [
       "<div>\n",
       "<table border=\"1\" class=\"dataframe\">\n",
       "  <thead>\n",
       "    <tr style=\"text-align: right;\">\n",
       "      <th></th>\n",
       "      <th>STANDARD_VALUE</th>\n",
       "      <th>STANDARD_UNITS</th>\n",
       "    </tr>\n",
       "  </thead>\n",
       "  <tbody>\n",
       "    <tr>\n",
       "      <th>7</th>\n",
       "      <td>110000</td>\n",
       "      <td>nM</td>\n",
       "    </tr>\n",
       "    <tr>\n",
       "      <th>19</th>\n",
       "      <td>110000</td>\n",
       "      <td>nM</td>\n",
       "    </tr>\n",
       "    <tr>\n",
       "      <th>34</th>\n",
       "      <td>110000</td>\n",
       "      <td>nM</td>\n",
       "    </tr>\n",
       "    <tr>\n",
       "      <th>36</th>\n",
       "      <td>110000</td>\n",
       "      <td>nM</td>\n",
       "    </tr>\n",
       "    <tr>\n",
       "      <th>41</th>\n",
       "      <td>110000</td>\n",
       "      <td>nM</td>\n",
       "    </tr>\n",
       "    <tr>\n",
       "      <th>81</th>\n",
       "      <td>110000</td>\n",
       "      <td>nM</td>\n",
       "    </tr>\n",
       "    <tr>\n",
       "      <th>85</th>\n",
       "      <td>110000</td>\n",
       "      <td>nM</td>\n",
       "    </tr>\n",
       "    <tr>\n",
       "      <th>182</th>\n",
       "      <td>110000</td>\n",
       "      <td>nM</td>\n",
       "    </tr>\n",
       "    <tr>\n",
       "      <th>221</th>\n",
       "      <td>110000</td>\n",
       "      <td>nM</td>\n",
       "    </tr>\n",
       "    <tr>\n",
       "      <th>233</th>\n",
       "      <td>110000</td>\n",
       "      <td>nM</td>\n",
       "    </tr>\n",
       "    <tr>\n",
       "      <th>250</th>\n",
       "      <td>110000</td>\n",
       "      <td>nM</td>\n",
       "    </tr>\n",
       "    <tr>\n",
       "      <th>253</th>\n",
       "      <td>110000</td>\n",
       "      <td>nM</td>\n",
       "    </tr>\n",
       "    <tr>\n",
       "      <th>311</th>\n",
       "      <td>110000</td>\n",
       "      <td>nM</td>\n",
       "    </tr>\n",
       "    <tr>\n",
       "      <th>368</th>\n",
       "      <td>110000</td>\n",
       "      <td>nM</td>\n",
       "    </tr>\n",
       "    <tr>\n",
       "      <th>384</th>\n",
       "      <td>110000</td>\n",
       "      <td>nM</td>\n",
       "    </tr>\n",
       "    <tr>\n",
       "      <th>418</th>\n",
       "      <td>110000</td>\n",
       "      <td>nM</td>\n",
       "    </tr>\n",
       "    <tr>\n",
       "      <th>433</th>\n",
       "      <td>110000</td>\n",
       "      <td>nM</td>\n",
       "    </tr>\n",
       "    <tr>\n",
       "      <th>449</th>\n",
       "      <td>110000</td>\n",
       "      <td>nM</td>\n",
       "    </tr>\n",
       "    <tr>\n",
       "      <th>458</th>\n",
       "      <td>110000</td>\n",
       "      <td>nM</td>\n",
       "    </tr>\n",
       "    <tr>\n",
       "      <th>482</th>\n",
       "      <td>110000</td>\n",
       "      <td>nM</td>\n",
       "    </tr>\n",
       "    <tr>\n",
       "      <th>519</th>\n",
       "      <td>110000</td>\n",
       "      <td>nM</td>\n",
       "    </tr>\n",
       "    <tr>\n",
       "      <th>520</th>\n",
       "      <td>110000</td>\n",
       "      <td>nM</td>\n",
       "    </tr>\n",
       "    <tr>\n",
       "      <th>531</th>\n",
       "      <td>110000</td>\n",
       "      <td>nM</td>\n",
       "    </tr>\n",
       "    <tr>\n",
       "      <th>546</th>\n",
       "      <td>110000</td>\n",
       "      <td>nM</td>\n",
       "    </tr>\n",
       "    <tr>\n",
       "      <th>591</th>\n",
       "      <td>110000</td>\n",
       "      <td>nM</td>\n",
       "    </tr>\n",
       "    <tr>\n",
       "      <th>608</th>\n",
       "      <td>110000</td>\n",
       "      <td>nM</td>\n",
       "    </tr>\n",
       "    <tr>\n",
       "      <th>634</th>\n",
       "      <td>110000</td>\n",
       "      <td>nM</td>\n",
       "    </tr>\n",
       "    <tr>\n",
       "      <th>732</th>\n",
       "      <td>110000</td>\n",
       "      <td>nM</td>\n",
       "    </tr>\n",
       "    <tr>\n",
       "      <th>737</th>\n",
       "      <td>110000</td>\n",
       "      <td>nM</td>\n",
       "    </tr>\n",
       "    <tr>\n",
       "      <th>743</th>\n",
       "      <td>110000</td>\n",
       "      <td>nM</td>\n",
       "    </tr>\n",
       "  </tbody>\n",
       "</table>\n",
       "</div>"
      ],
      "text/plain": [
       "     STANDARD_VALUE STANDARD_UNITS\n",
       "7            110000             nM\n",
       "19           110000             nM\n",
       "34           110000             nM\n",
       "36           110000             nM\n",
       "41           110000             nM\n",
       "81           110000             nM\n",
       "85           110000             nM\n",
       "182          110000             nM\n",
       "221          110000             nM\n",
       "233          110000             nM\n",
       "250          110000             nM\n",
       "253          110000             nM\n",
       "311          110000             nM\n",
       "368          110000             nM\n",
       "384          110000             nM\n",
       "418          110000             nM\n",
       "433          110000             nM\n",
       "449          110000             nM\n",
       "458          110000             nM\n",
       "482          110000             nM\n",
       "519          110000             nM\n",
       "520          110000             nM\n",
       "531          110000             nM\n",
       "546          110000             nM\n",
       "591          110000             nM\n",
       "608          110000             nM\n",
       "634          110000             nM\n",
       "732          110000             nM\n",
       "737          110000             nM\n",
       "743          110000             nM"
      ]
     },
     "execution_count": 8,
     "metadata": {},
     "output_type": "execute_result"
    }
   ],
   "source": [
    "act.loc[act.ACTIVITY_COMMENT == \"Not Active\",[\"STANDARD_VALUE\", \"STANDARD_UNITS\"]]"
   ]
  },
  {
   "cell_type": "code",
   "execution_count": 9,
   "metadata": {
    "collapsed": false
   },
   "outputs": [
    {
     "data": {
      "text/plain": [
       "<matplotlib.axes._subplots.AxesSubplot at 0x7f05cff35668>"
      ]
     },
     "execution_count": 9,
     "metadata": {},
     "output_type": "execute_result"
    },
    {
     "data": {
      "image/png": "[encoded data removed]",
      "text/plain": [
       "<matplotlib.figure.Figure at 0x7f05e4facc50>"
      ]
     },
     "metadata": {},
     "output_type": "display_data"
    }
   ],
   "source": [
    "act.STANDARD_VALUE.hist()"
   ]
  },
  {
   "cell_type": "code",
   "execution_count": 10,
   "metadata": {
    "collapsed": false
   },
   "outputs": [
    {
     "data": {
      "text/plain": [
       "(array([507, 575]),)"
      ]
     },
     "execution_count": 10,
     "metadata": {},
     "output_type": "execute_result"
    }
   ],
   "source": [
    "np.where(np.isnan(act.STANDARD_VALUE))"
   ]
  },
  {
   "cell_type": "code",
   "execution_count": 11,
   "metadata": {
    "collapsed": false,
    "scrolled": true
   },
   "outputs": [
    {
     "data": {
      "text/plain": [
       "507    Potential missing data\n",
       "575    Potential missing data\n",
       "Name: DATA_VALIDITY_COMMENT, dtype: object"
      ]
     },
     "execution_count": 11,
     "metadata": {},
     "output_type": "execute_result"
    }
   ],
   "source": [
    "act.loc[[507, 575],\"DATA_VALIDITY_COMMENT\"]"
   ]
  },
  {
   "cell_type": "code",
   "execution_count": 12,
   "metadata": {
    "collapsed": false
   },
   "outputs": [
    {
     "data": {
      "text/plain": [
       "(749, 48)"
      ]
     },
     "execution_count": 12,
     "metadata": {},
     "output_type": "execute_result"
    }
   ],
   "source": [
    "act.shape"
   ]
  },
  {
   "cell_type": "code",
   "execution_count": 13,
   "metadata": {
    "collapsed": false
   },
   "outputs": [
    {
     "data": {
      "text/plain": [
       "(747, 48)"
      ]
     },
     "execution_count": 13,
     "metadata": {},
     "output_type": "execute_result"
    }
   ],
   "source": [
    "act = act[~np.isnan(act.STANDARD_VALUE)]\n",
    "act.shape"
   ]
  },
  {
   "cell_type": "code",
   "execution_count": 14,
   "metadata": {
    "collapsed": false
   },
   "outputs": [
    {
     "name": "stderr",
     "output_type": "stream",
     "text": [
      "/var/local/anacond3-filip/lib/python3.5/site-packages/rdkit/Chem/PeriodicTable.py:131: FutureWarning: split() requires a non-empty pattern match.\n",
      "  splitLine = blankExpr.split(line)\n"
     ]
    }
   ],
   "source": [
    "from rdkit import Chem\n",
    "from rdkit.Chem import Descriptors"
   ]
  },
  {
   "cell_type": "code",
   "execution_count": 15,
   "metadata": {
    "collapsed": false
   },
   "outputs": [],
   "source": [
    "act[\"MOL\"] = act.CANONICAL_SMILES.apply(Chem.MolFromSmiles)"
   ]
  },
  {
   "cell_type": "code",
   "execution_count": 16,
   "metadata": {
    "collapsed": false
   },
   "outputs": [],
   "source": [
    "dataset = act[[\"MOL\", \"STANDARD_VALUE\"]]"
   ]
  },
  {
   "cell_type": "code",
   "execution_count": 17,
   "metadata": {
    "collapsed": false
   },
   "outputs": [
    {
     "data": {
      "text/plain": [
       "('fr_COO2', <function rdkit.Chem.Fragments._LoadPatterns.<locals>.<lambda>>)"
      ]
     },
     "execution_count": 17,
     "metadata": {},
     "output_type": "execute_result"
    }
   ],
   "source": [
    "Descriptors.descList[120]"
   ]
  },
  {
   "cell_type": "code",
   "execution_count": 18,
   "metadata": {
    "collapsed": false
   },
   "outputs": [
    {
     "name": "stderr",
     "output_type": "stream",
     "text": [
      "/var/local/anacond3-filip/lib/python3.5/site-packages/ipykernel/__main__.py:2: SettingWithCopyWarning: \n",
      "A value is trying to be set on a copy of a slice from a DataFrame.\n",
      "Try using .loc[row_indexer,col_indexer] = value instead\n",
      "\n",
      "See the caveats in the documentation: http://pandas.pydata.org/pandas-docs/stable/indexing.html#indexing-view-versus-copy\n",
      "  from ipykernel import kernelapp as app\n"
     ]
    }
   ],
   "source": [
    "for name, f in Descriptors.descList:\n",
    "    dataset[name] = dataset.MOL.apply(f)"
   ]
  },
  {
   "cell_type": "code",
   "execution_count": 19,
   "metadata": {
    "collapsed": false
   },
   "outputs": [],
   "source": [
    "import numpy as np\n",
    "features = np.asarray(dataset.drop([\"MOL\", \"STANDARD_VALUE\"], axis=1))"
   ]
  },
  {
   "cell_type": "code",
   "execution_count": 20,
   "metadata": {
    "collapsed": false
   },
   "outputs": [
    {
     "data": {
      "text/plain": [
       "(747, 196)"
      ]
     },
     "execution_count": 20,
     "metadata": {},
     "output_type": "execute_result"
    }
   ],
   "source": [
    "features.shape"
   ]
  },
  {
   "cell_type": "code",
   "execution_count": 21,
   "metadata": {
    "collapsed": false
   },
   "outputs": [],
   "source": [
    "features -= features.mean(axis=0)\n",
    "features /= features.std(axis=0)"
   ]
  },
  {
   "cell_type": "code",
   "execution_count": 22,
   "metadata": {
    "collapsed": false
   },
   "outputs": [
    {
     "data": {
      "text/plain": [
       "array([ nan,   1.,   1.,   1.,   1.,   1.,   1.,   1.,   1.,   1.,   1.,\n",
       "         1.,   1.,   1.,   1.,   1.,   1.,   1.,   1.,   1.,   1.,   1.,\n",
       "         1.,   1.,   1.,   1.,   1.,   1.,   1.,   1.,   1.,   1.,   1.,\n",
       "         1.,   1.,   1.,   1.,   1.,   1.,   1.,   1.,   1.,   1.,   1.,\n",
       "         1.,   1.,   1.,   1.,   1.,   1.,   1.,   1.,   1.,   1.,   1.,\n",
       "        nan,   1.,   1.,   1.,   1.,   1.,   1.,   1.,   1.,   1.,   1.,\n",
       "         1.,   1.,  nan,   1.,   1.,   1.,  nan,   1.,   1.,   1.,   1.,\n",
       "         1.,   1.,   1.,   1.,  nan,   1.,  nan,  nan,  nan,  nan,  nan,\n",
       "        nan,   1.,   1.,   1.,   1.,   1.,   1.,  nan,   1.,   1.,   1.,\n",
       "         1.,   1.,   1.,   1.,   1.,   1.,  nan,   1.,   1.,   1.,   1.,\n",
       "         1.,  nan,   1.,   1.,   1.,  nan,   1.,   1.,  nan,  nan,  nan,\n",
       "         1.,   1.,   1.,  nan,   1.,   1.,   1.,   1.,   1.,  nan,  nan,\n",
       "         1.,   1.,  nan,  nan,   1.,  nan,   1.,   1.,   1.,   1.,  nan,\n",
       "        nan,  nan,   1.,  nan,   1.,  nan,  nan,  nan,   1.,   1.,   1.,\n",
       "         1.,   1.,   1.,   1.,   1.,   1.,  nan,  nan,   1.,   1.,  nan,\n",
       "        nan,   1.,  nan,  nan,   1.,   1.,  nan,  nan,  nan,   1.,   1.,\n",
       "        nan,  nan,   1.,   1.,  nan,  nan,   1.,  nan,   1.,  nan,  nan,\n",
       "        nan,   1.,  nan,  nan,  nan,  nan,   1.,   1.,   1.])"
      ]
     },
     "execution_count": 22,
     "metadata": {},
     "output_type": "execute_result"
    }
   ],
   "source": [
    "features.std(axis=0)"
   ]
  },
  {
   "cell_type": "code",
   "execution_count": 23,
   "metadata": {
    "collapsed": false
   },
   "outputs": [],
   "source": [
    "no_variance = np.abs(np.std(features, axis=0)) < 1e-2"
   ]
  },
  {
   "cell_type": "code",
   "execution_count": 24,
   "metadata": {
    "collapsed": false
   },
   "outputs": [],
   "source": [
    "for i in np.where(no_variance)[0]:\n",
    "    dataset = dataset.drop([Descriptors.descList[i][0]], axis=1)"
   ]
  },
  {
   "cell_type": "code",
   "execution_count": 25,
   "metadata": {
    "collapsed": false
   },
   "outputs": [
    {
     "data": {
      "text/plain": [
       "(198,)"
      ]
     },
     "execution_count": 25,
     "metadata": {},
     "output_type": "execute_result"
    }
   ],
   "source": [
    "dataset.columns.shape"
   ]
  },
  {
   "cell_type": "code",
   "execution_count": 26,
   "metadata": {
    "collapsed": false
   },
   "outputs": [],
   "source": [
    "from sklearn import cross_validation"
   ]
  },
  {
   "cell_type": "code",
   "execution_count": 27,
   "metadata": {
    "collapsed": false
   },
   "outputs": [],
   "source": [
    "ds_train, ds_test = cross_validation.train_test_split(dataset, test_size=0.25, random_state=1)"
   ]
  },
  {
   "cell_type": "code",
   "execution_count": 28,
   "metadata": {
    "collapsed": false
   },
   "outputs": [
    {
     "data": {
      "text/plain": [
       "(560, 187)"
      ]
     },
     "execution_count": 28,
     "metadata": {},
     "output_type": "execute_result"
    }
   ],
   "source": [
    "len(ds_train), len(ds_test)"
   ]
  },
  {
   "cell_type": "code",
   "execution_count": 29,
   "metadata": {
    "collapsed": true
   },
   "outputs": [],
   "source": [
    "from sklearn.svm import SVR"
   ]
  },
  {
   "cell_type": "code",
   "execution_count": null,
   "metadata": {
    "collapsed": false
   },
   "outputs": [],
   "source": [
    "def X(dataset):\n",
    "    return np.asarray(dataset[list(dataset.columns[2:])])\n",
    "\n",
    "def y(dataset):\n",
    "    return np.asarray(dataset.STANDARD_VALUE)"
   ]
  },
  {
   "cell_type": "code",
   "execution_count": null,
   "metadata": {
    "collapsed": false
   },
   "outputs": [],
   "source": [
    "clf = SVR(kernel=\"poly\", degree=5, C=1.0, epsilon=0.2, verbose=True)\n",
    "clf.fit(X(ds_train), y(ds_train))"
   ]
  },
  {
   "cell_type": "code",
   "execution_count": null,
   "metadata": {
    "collapsed": false
   },
   "outputs": [],
   "source": [
    "np.sum(np.square(clf.predict(X(ds_test)) - y(ds_test)))"
   ]
  },
  {
   "cell_type": "code",
   "execution_count": null,
   "metadata": {
    "collapsed": false
   },
   "outputs": [],
   "source": [
    "np.sum(np.square(clf.predict(X(ds_train)) - y(ds_train)))"
   ]
  },
  {
   "cell_type": "code",
   "execution_count": null,
   "metadata": {
    "collapsed": true
   },
   "outputs": [],
   "source": [
    "import sklearn.feature_selection"
   ]
  },
  {
   "cell_type": "code",
   "execution_count": null,
   "metadata": {
    "collapsed": true
   },
   "outputs": [],
   "source": [
    "eliminator = sklearn.feature_selection.RFE(clf, 8)"
   ]
  },
  {
   "cell_type": "code",
   "execution_count": null,
   "metadata": {
    "collapsed": false
   },
   "outputs": [],
   "source": [
    "eliminator.fit(X(ds_train), y(ds_train))"
   ]
  },
  {
   "cell_type": "code",
   "execution_count": null,
   "metadata": {
    "collapsed": true
   },
   "outputs": [],
   "source": []
  }
 ],
 "metadata": {
  "kernelspec": {
   "display_name": "Python 3",
   "language": "python",
   "name": "python3"
  },
  "language_info": {
   "codemirror_mode": {
    "name": "ipython",
    "version": 3
   },
   "file_extension": ".py",
   "mimetype": "text/x-python",
   "name": "python",
   "nbconvert_exporter": "python",
   "pygments_lexer": "ipython3",
   "version": "3.5.1"
  }
 },
 "nbformat": 4,
 "nbformat_minor": 0
}
