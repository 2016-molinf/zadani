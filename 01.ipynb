{
 "cells": [
  {
   "cell_type": "markdown",
   "metadata": {},
   "source": [
    "# Úloha 1 (23. 2.)\n",
    "\n",
    "Naimplementujte třídu `Molecule`, která pracuje se sumárním vzorcem. Ukažte, jak se třída použije a udělejte několik testů."
   ]
  },
  {
   "cell_type": "code",
   "execution_count": 9,
   "metadata": {
    "collapsed": true
   },
   "outputs": [],
   "source": [
    "class Molecule(object):\n",
    "    \n",
    "    def __init__(self, summary_formula):\n",
    "        self.summary_formula = summary_formula\n",
    "    \n",
    "    def atom_count(self, atom_symbol=None):\n",
    "        \"\"\"\n",
    "        Vrací počet atomů daného prvku v molekule. Pokud je atom_symbol = None, vrátí celkový počet atomů.\n",
    "        \"\"\"\n",
    "        pass\n",
    "    \n",
    "    def molecular_weight(self):\n",
    "        \"\"\"\n",
    "        Vrátí celkovou molekulární hmotnost molekuly.\n",
    "        \"\"\"\n",
    "        pass\n",
    "    \n",
    "    def summary_formula(self):\n",
    "        \"\"\"\n",
    "        Vrátí sumární vzorec molekuly jako string.\n",
    "        \"\"\"\n",
    "        pass"
   ]
  },
  {
   "cell_type": "code",
   "execution_count": 10,
   "metadata": {
    "collapsed": false
   },
   "outputs": [
    {
     "ename": "AssertionError",
     "evalue": "",
     "output_type": "error",
     "traceback": [
      "\u001b[1;31m---------------------------------------------------------------------------\u001b[0m",
      "\u001b[1;31mAssertionError\u001b[0m                            Traceback (most recent call last)",
      "\u001b[1;32m<ipython-input-10-c211166069f7>\u001b[0m in \u001b[0;36m<module>\u001b[1;34m()\u001b[0m\n\u001b[0;32m      1\u001b[0m \u001b[0mmol\u001b[0m \u001b[1;33m=\u001b[0m \u001b[0mMolecule\u001b[0m\u001b[1;33m(\u001b[0m\u001b[1;34m\"H2O\"\u001b[0m\u001b[1;33m)\u001b[0m\u001b[1;33m\u001b[0m\u001b[0m\n\u001b[0;32m      2\u001b[0m \u001b[1;33m\u001b[0m\u001b[0m\n\u001b[1;32m----> 3\u001b[1;33m \u001b[1;32massert\u001b[0m \u001b[0mmol\u001b[0m\u001b[1;33m.\u001b[0m\u001b[0matom_count\u001b[0m\u001b[1;33m(\u001b[0m\u001b[1;33m)\u001b[0m \u001b[1;33m==\u001b[0m \u001b[1;36m3\u001b[0m\u001b[1;33m\u001b[0m\u001b[0m\n\u001b[0m\u001b[0;32m      4\u001b[0m \u001b[1;32massert\u001b[0m \u001b[0mmol\u001b[0m\u001b[1;33m.\u001b[0m\u001b[0matom_count\u001b[0m\u001b[1;33m(\u001b[0m\u001b[1;34m\"H\"\u001b[0m\u001b[1;33m)\u001b[0m \u001b[1;33m==\u001b[0m \u001b[1;36m2\u001b[0m\u001b[1;33m\u001b[0m\u001b[0m\n\u001b[0;32m      5\u001b[0m \u001b[1;32massert\u001b[0m \u001b[0mmol\u001b[0m\u001b[1;33m.\u001b[0m\u001b[0matom_count\u001b[0m\u001b[1;33m(\u001b[0m\u001b[1;34m\"O\"\u001b[0m\u001b[1;33m)\u001b[0m \u001b[1;33m==\u001b[0m \u001b[1;36m1\u001b[0m\u001b[1;33m\u001b[0m\u001b[0m\n",
      "\u001b[1;31mAssertionError\u001b[0m: "
     ]
    }
   ],
   "source": [
    "mol = Molecule(\"H2O\")\n",
    "\n",
    "assert mol.atom_count() == 3\n",
    "assert mol.atom_count(\"H\") == 2\n",
    "assert mol.atom_count(\"O\") == 1\n",
    "assert -1e-7 < mol.molecular_weight() - 18 < 1e-7\n",
    "assert mol.summary_formula == \"H2O\""
   ]
  }
 ],
 "metadata": {
  "kernelspec": {
   "display_name": "Python 3",
   "language": "python",
   "name": "python3"
  },
  "language_info": {
   "codemirror_mode": {
    "name": "ipython",
    "version": 3
   },
   "file_extension": ".py",
   "mimetype": "text/x-python",
   "name": "python",
   "nbconvert_exporter": "python",
   "pygments_lexer": "ipython3",
   "version": "3.4.3"
  }
 },
 "nbformat": 4,
 "nbformat_minor": 0
}
