{
 "cells": [
  {
   "cell_type": "markdown",
   "metadata": {},
   "source": [
    "# Chemická databáze\n",
    "\n",
    "Představte si, že jste jedním z prvních zaměstnanců ve firmě, která pracuje s chemickými látkami. Co přesně firma s těmi látkami dělá, to je na vás a podle toho taky bude vypadat, co bude dělat vaše chemická databáze. Protože je úkol součástí výuky, nebudete kupovat žádný hotový software, ale postavíte vše z open source.\n",
    "\n",
    "V rámci zadání 02 byste měli vytvořit základ systému, do kterého budete přidávat funkce.\n",
    "\n",
    "## Zadání 02 - upload a základní výpočty ze struktur\n",
    "\n",
    "Vytvořte webovou aplikaci, do které uživatel nahraje soubor se strukturou (nebo ji nakreslí). Struktura dostane přidělený identifikátor ve tvaru `MI-[první písmeno vašeho jména]-[cokoliv]`. Pokud už v databázi tato struktura existuje, nenahraje se znovu.\n",
    "\n",
    "Zobrazte tabulku nahraných struktur. Tabulka bude obsahovat\n",
    "\n",
    "* Registrační ID (přidělené systémem)\n",
    "* Obrázek struktury\n",
    "* Molekulovou hmotnost\n",
    "* Sumární vzorec\n",
    "\n",
    "Každou molekulu bude možné stáhnout samostatně nebo všechny zároveň (ve formátu SDFile).\n",
    "\n",
    "Termín odevzdání je za tři týdny, tj. **15. 3.**\n",
    "\n",
    "Odevzdávejte jak zdrojové kódy, tak běžící aplikaci. Aplikace může běžet třeba na cloud4b.cerit-sc.cz. Zdrojové kódy průběžně nahrávejte sem na Github.\n",
    "\n",
    "## Doporučené technologie \n",
    "\n",
    "- RDKit pro chemickou informatiku http://www.rdkit.org/docs/GettingStartedInPython.html\n",
    "- Django pro web https://docs.djangoproject.com/en/1.9/intro/tutorial01/\n",
    "- SQLite databáze\n",
    "- Chemdoodle Web jako kreslítko https://web.chemdoodle.com\n",
    "\n",
    "## Na co se zatím vykašlat\n",
    "\n",
    "- Autentikace a uživatelé\n",
    "- Deployment přes WSGI, stačí `manage.py runserver`"
   ]
  },
  {
   "cell_type": "markdown",
   "metadata": {},
   "source": [
    "## Zadání 03 - vyhledávání\n",
    "\n",
    "Implementujte substrukturní vyhledávání v databázi. Termín odevzdání - 29. 3.\n",
    "\n",
    "To znamená, že uživatel nakreslí molekulu a systém najde všechny molekuly, které obsahují nakreslenou strukturu. Např. když uživatel nakreslí benzen, najde se benzen, fenol, bifenyl ale ne cyklohexan nebo butan.\n",
    "\n",
    "Výsledky půjde stáhnout jako SDF.\n",
    "\n",
    "Bonus: Až bude fungovat hledání fakticky správně, zkuste o kolik je možné ho zrychlit pomocí prescreeningu fingerprintů."
   ]
  },
  {
   "cell_type": "markdown",
   "metadata": {},
   "source": [
    "## Zadání 04 - vlastní\n",
    "\n",
    "Vymyslete, co vaše firma dělá a co potřebuje v databázi. To naimplementujte.\n",
    "\n",
    "Příklady:\n",
    "\n",
    "- evidence skladu a doobjednávání chemikálií\n",
    "- vyhledávání toxikologických dat a regulací pro danou strukturu\n",
    "- laboratorní deník a vyhledávání v něm podle struktury"
   ]
  }
 ],
 "metadata": {
  "kernelspec": {
   "display_name": "Python 3",
   "language": "python",
   "name": "python3"
  },
  "language_info": {
   "codemirror_mode": {
    "name": "ipython",
    "version": 3
   },
   "file_extension": ".py",
   "mimetype": "text/x-python",
   "name": "python",
   "nbconvert_exporter": "python",
   "pygments_lexer": "ipython3",
   "version": "3.4.3"
  }
 },
 "nbformat": 4,
 "nbformat_minor": 0
}
